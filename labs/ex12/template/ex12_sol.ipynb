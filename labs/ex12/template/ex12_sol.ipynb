{
 "cells": [
  {
   "cell_type": "code",
   "execution_count": 61,
   "metadata": {},
   "outputs": [
    {
     "name": "stdout",
     "output_type": "stream",
     "text": [
      "The autoreload extension is already loaded. To reload it, use:\n",
      "  %reload_ext autoreload\n"
     ]
    }
   ],
   "source": [
    "%load_ext autoreload\n",
    "%autoreload 2\n",
    "\n",
    "import numpy as np\n",
    "import scipy.io\n",
    "import matplotlib.pyplot as plt\n",
    "from test_utils import test\n",
    "from typing import NamedTuple, List, Dict, Tuple"
   ]
  },
  {
   "cell_type": "markdown",
   "metadata": {},
   "source": [
    "# Load the data"
   ]
  },
  {
   "cell_type": "markdown",
   "metadata": {},
   "source": [
    "We will be working with the MovieLens dataset, containing 100k movie ratings.\n",
    "The goal is to predict the rating of a (movie, user) pair, given other ratings by this user and of this movie."
   ]
  },
  {
   "cell_type": "code",
   "execution_count": 62,
   "metadata": {},
   "outputs": [
    {
     "name": "stdout",
     "output_type": "stream",
     "text": [
      "[   0    0    0 ... 1679 1680 1681]\n",
      "Loaded 100000 ratings of 943 users for 1682 movies.\n"
     ]
    }
   ],
   "source": [
    "class Dataset(NamedTuple):\n",
    "    \"\"\"Data container with three arrays of the same length:\"\"\"\n",
    "\n",
    "    movies: np.ndarray\n",
    "    users: np.ndarray\n",
    "    ratings: np.ndarray\n",
    "\n",
    "    def __len__(self):\n",
    "        assert len(self.movies) == len(self.users) == len(self.ratings)\n",
    "        return len(self.ratings)\n",
    "    \n",
    "    def __getitem__(self, idx):\n",
    "        return self.movies[idx], self.users[idx], self.ratings[idx]\n",
    "\n",
    "def load_data() -> Dataset:\n",
    "    \"\"\"Load a sparse matrix from a matlab file and return is as a list of\"\"\"\n",
    "    data = scipy.io.loadmat(\"movielens100k.mat\")[\"ratings\"]\n",
    "    movies, users = data.nonzero()  # indices of available ratings in the matrix\n",
    "    print(movies)\n",
    "    ratings = data[movies, users].A1\n",
    "    return Dataset(movies, users, ratings)\n",
    "\n",
    "dataset = load_data()\n",
    "\n",
    "num_users = np.max(dataset.users) + 1\n",
    "num_movies = np.max(dataset.movies) + 1\n",
    "\n",
    "print(\n",
    "    f\"Loaded {len(dataset.ratings)} ratings of {num_users} users for {num_movies} movies.\"\n",
    ")"
   ]
  },
  {
   "cell_type": "markdown",
   "metadata": {},
   "source": [
    "# Plot the number of ratings per movie and user\n",
    "\n",
    "It will be too tricky to make predictions for movies and users for which too few ratings are available.\n",
    "Below we will investigate the distribution of how many ratings we have for various users and movies, to evaluate if we need to exclude some users or movies."
   ]
  },
  {
   "cell_type": "code",
   "execution_count": 63,
   "metadata": {},
   "outputs": [],
   "source": [
    "def count_ratings_per_movie(dataset: Dataset) -> Dict[int, int]:\n",
    "    \"\"\"Count the number of ratings available per movie\n",
    "\n",
    "    Inputs:\n",
    "        dataset: Dataset\n",
    "\n",
    "    Returns:\n",
    "        counts: a dictionary form movie id (int) -> count (int)\n",
    "\n",
    "    >>> count_ratings_per_movie(Dataset(np.array([0, 0, 1]), np.array([1, 2, 1]), np.array([1.0, 2.0, 3.0])))\n",
    "    {0: 2, 1: 1}\n",
    "    \"\"\"\n",
    "    counts = {}\n",
    "    for movie in dataset.movies:\n",
    "        if movie in counts:\n",
    "            counts[movie] += 1\n",
    "        else:\n",
    "            counts[movie] = 1\n",
    "    return counts\n",
    "\n",
    "\n",
    "def count_ratings_per_user(dataset: Dataset) -> Dict[int, int]:\n",
    "    \"\"\"Count the number of ratings given by a user\n",
    "\n",
    "    Inputs:\n",
    "        dataset: Dataset\n",
    "\n",
    "    Returns:\n",
    "        counts: a dictionary form user id (int) -> count (int)\n",
    "\n",
    "    >>> count_ratings_per_user(Dataset(np.array([0, 0, 1]), np.array([1, 2, 2]), np.array([4.0, 1.0, 2.0])))\n",
    "    {1: 1, 2: 2}\n",
    "    \"\"\"\n",
    "    counts = {}\n",
    "    for user in dataset.users:\n",
    "        if user in counts:\n",
    "            counts[user] += 1\n",
    "        else:\n",
    "            counts[user] = 1\n",
    "    return counts"
   ]
  },
  {
   "cell_type": "code",
   "execution_count": 64,
   "metadata": {},
   "outputs": [
    {
     "name": "stdout",
     "output_type": "stream",
     "text": [
      "✅ Your `count_ratings_per_movie` passes some basic tests.\n",
      "✅ Your `count_ratings_per_user` passes some basic tests.\n"
     ]
    }
   ],
   "source": [
    "test(count_ratings_per_movie)\n",
    "test(count_ratings_per_user)"
   ]
  },
  {
   "cell_type": "markdown",
   "metadata": {},
   "source": [
    "Let's plot the results:"
   ]
  },
  {
   "cell_type": "code",
   "execution_count": 65,
   "metadata": {},
   "outputs": [
    {
     "name": "stdout",
     "output_type": "stream",
     "text": [
      "{0: 452, 1: 131, 2: 90, 3: 209, 4: 86, 5: 26, 6: 392, 7: 219, 8: 299, 9: 89, 10: 236, 11: 267, 12: 184, 13: 183, 14: 293, 15: 39, 16: 92, 17: 10, 18: 69, 19: 72, 20: 84, 21: 297, 22: 182, 23: 174, 24: 293, 25: 73, 26: 57, 27: 276, 28: 114, 29: 37, 30: 154, 31: 81, 32: 97, 33: 7, 34: 11, 35: 13, 36: 8, 37: 120, 38: 87, 39: 57, 40: 37, 41: 148, 42: 40, 43: 79, 44: 80, 45: 27, 46: 133, 47: 117, 48: 81, 49: 583, 50: 81, 51: 91, 52: 128, 53: 104, 54: 149, 55: 394, 56: 40, 57: 175, 58: 83, 59: 64, 60: 59, 61: 127, 62: 82, 63: 283, 64: 115, 65: 162, 66: 103, 67: 134, 68: 321, 69: 251, 70: 220, 71: 129, 72: 128, 73: 7, 74: 5, 75: 54, 76: 151, 77: 33, 78: 336, 79: 68, 80: 110, 81: 261, 82: 176, 83: 18, 84: 58, 85: 150, 86: 138, 87: 213, 88: 275, 89: 95, 90: 143, 91: 104, 92: 112, 93: 137, 94: 219, 95: 295, 96: 256, 97: 390, 98: 172, 99: 508, 100: 73, 101: 54, 102: 15, 103: 5, 104: 74, 105: 71, 106: 42, 107: 65, 108: 130, 109: 31, 110: 272, 111: 20, 112: 9, 113: 67, 114: 15, 115: 125, 116: 378, 117: 293, 118: 4, 119: 67, 120: 429, 121: 106, 122: 115, 123: 187, 124: 244, 125: 97, 126: 413, 127: 65, 128: 129, 129: 23, 130: 95, 131: 246, 132: 171, 133: 198, 134: 259, 135: 105, 136: 171, 137: 19, 138: 50, 139: 61, 140: 72, 141: 57, 142: 222, 143: 243, 144: 65, 145: 10, 146: 185, 147: 128, 148: 23, 149: 157, 150: 326, 151: 82, 152: 247, 153: 174, 154: 98, 155: 148, 156: 127, 157: 60, 158: 101, 159: 69, 160: 220, 161: 106, 162: 92, 163: 151, 164: 64, 165: 58, 166: 67, 167: 316, 168: 118, 169: 121, 170: 65, 171: 367, 172: 324, 173: 420, 174: 208, 175: 284, 176: 137, 177: 125, 178: 221, 179: 221, 180: 507, 181: 226, 182: 291, 183: 116, 184: 239, 185: 251, 186: 209, 187: 170, 188: 66, 189: 124, 190: 276, 191: 116, 192: 157, 193: 241, 194: 301, 195: 251, 196: 239, 197: 127, 198: 165, 199: 206, 200: 89, 201: 280, 202: 182, 203: 350, 204: 136, 205: 50, 206: 66, 207: 200, 208: 191, 209: 331, 210: 206, 211: 92, 212: 134, 213: 114, 214: 212, 215: 290, 216: 120, 217: 171, 218: 111, 219: 66, 220: 74, 221: 365, 222: 136, 223: 44, 224: 109, 225: 166, 226: 161, 227: 244, 228: 171, 229: 199, 230: 142, 231: 101, 232: 124, 233: 280, 234: 217, 235: 45, 236: 384, 237: 256, 238: 150, 239: 156, 240: 128, 241: 117, 242: 132, 243: 48, 244: 240, 245: 124, 246: 5, 247: 160, 248: 130, 249: 197, 250: 46, 251: 158, 252: 26, 253: 62, 254: 172, 255: 16, 256: 303, 257: 509, 258: 162, 259: 127, 260: 43, 261: 66, 262: 19, 263: 101, 264: 227, 265: 35, 266: 9, 267: 255, 268: 315, 269: 136, 270: 211, 271: 198, 272: 223, 273: 190, 274: 268, 275: 298, 276: 71, 277: 60, 278: 28, 279: 85, 280: 146, 281: 232, 282: 177, 283: 193, 284: 162, 285: 481, 286: 78, 287: 478, 288: 259, 289: 96, 290: 127, 291: 114, 292: 147, 293: 485, 294: 77, 295: 6, 296: 50, 297: 194, 298: 73, 299: 431, 300: 230, 301: 297, 302: 134, 303: 149, 304: 87, 305: 96, 306: 188, 307: 30, 308: 28, 309: 145, 310: 75, 311: 80, 312: 350, 313: 5, 314: 160, 315: 112, 316: 102, 317: 298, 318: 168, 319: 20, 320: 169, 321: 218, 322: 240, 323: 125, 324: 128, 325: 175, 326: 175, 327: 295, 328: 45, 329: 41, 330: 113, 331: 143, 332: 251, 333: 64, 334: 21, 335: 43, 336: 18, 337: 91, 338: 47, 339: 189, 340: 11, 341: 52, 342: 124, 343: 55, 344: 65, 345: 126, 346: 137, 347: 27, 348: 31, 349: 41, 350: 20, 351: 26, 352: 14, 353: 72, 354: 41, 355: 97, 356: 264, 357: 143, 358: 18, 359: 10, 360: 10, 361: 28, 362: 47, 363: 37, 364: 48, 365: 47, 366: 170, 367: 31, 368: 55, 369: 39, 370: 67, 371: 34, 372: 39, 373: 11, 374: 23, 375: 24, 376: 13, 377: 101, 378: 43, 379: 116, 380: 100, 381: 111, 382: 31, 383: 69, 384: 208, 385: 87, 386: 65, 387: 28, 388: 27, 389: 10, 390: 59, 391: 68, 392: 192, 393: 12, 394: 56, 395: 54, 396: 12, 397: 26, 398: 89, 399: 18, 400: 76, 401: 170, 402: 201, 403: 101, 404: 344, 405: 49, 406: 43, 407: 112, 408: 70, 409: 162, 410: 163, 411: 93, 412: 55, 413: 62, 414: 25, 415: 64, 416: 73, 417: 129, 418: 178, 419: 81, 420: 106, 421: 26, 422: 300, 423: 19, 424: 85, 425: 32, 426: 219, 427: 121, 428: 97, 429: 93, 430: 153, 431: 174, 432: 171, 433: 67, 434: 216, 435: 99, 436: 5, 437: 6, 438: 5, 439: 14, 440: 53, 441: 4, 442: 162, 443: 46, 444: 22, 445: 9, 446: 121, 447: 85, 448: 117, 449: 63, 450: 170, 451: 66, 452: 16, 453: 16, 454: 145, 455: 48, 456: 27, 457: 90, 458: 24, 459: 28, 460: 74, 461: 148, 462: 71, 463: 27, 464: 85, 465: 52, 466: 48, 467: 64, 468: 67, 469: 108, 470: 221, 471: 158, 472: 126, 473: 194, 474: 250, 475: 160, 476: 95, 477: 104, 478: 179, 479: 179, 480: 63, 481: 128, 482: 243, 483: 138, 484: 125, 485: 64, 486: 68, 487: 65, 488: 52, 489: 50, 490: 67, 491: 59, 492: 60, 493: 56, 494: 59, 495: 231, 496: 68, 497: 152, 498: 62, 499: 31, 500: 123, 501: 57, 502: 39, 503: 122, 504: 68, 505: 90, 506: 98, 507: 215, 508: 121, 509: 121, 510: 173, 511: 57, 512: 72, 513: 180, 514: 201, 515: 63, 516: 91, 517: 89, 518: 80, 519: 124, 520: 120, 521: 35, 522: 164, 523: 46, 524: 73, 525: 124, 526: 195, 527: 121, 528: 93, 529: 80, 530: 129, 531: 22, 532: 15, 533: 13, 534: 54, 535: 10, 536: 30, 537: 66, 538: 44, 539: 43, 540: 49, 541: 51, 542: 21, 543: 71, 544: 12, 545: 254, 546: 41, 547: 12, 548: 92, 549: 151, 550: 24, 551: 45, 552: 63, 553: 102, 554: 10, 555: 12, 556: 17, 557: 70, 558: 137, 559: 22, 560: 59, 561: 48, 562: 29, 563: 27, 564: 22, 565: 179, 566: 35, 567: 230, 568: 67, 569: 50, 570: 28, 571: 29, 572: 33, 573: 15, 574: 44, 575: 93, 576: 41, 577: 92, 578: 19, 579: 32, 580: 59, 581: 168, 582: 37, 583: 79, 584: 39, 585: 34, 586: 14, 587: 202, 588: 43, 589: 18, 590: 178, 591: 9, 592: 12, 593: 5, 594: 64, 595: 127, 596: 206, 597: 4, 598: 1, 599: 2, 600: 20, 601: 50, 602: 209, 603: 81, 604: 31, 605: 66, 606: 66, 607: 30, 608: 60, 609: 41, 610: 40, 611: 34, 612: 27, 613: 51, 614: 59, 615: 64, 616: 18, 617: 18, 618: 64, 619: 43, 620: 11, 621: 39, 622: 39, 623: 22, 624: 82, 625: 4, 626: 75, 627: 169, 628: 77, 629: 31, 630: 119, 631: 58, 632: 69, 633: 24, 634: 23, 635: 91, 636: 38, 637: 44, 638: 40, 639: 82, 640: 33, 641: 89, 642: 4, 643: 35, 644: 27, 645: 38, 646: 70, 647: 67, 648: 50, 649: 72, 650: 171, 651: 90, 652: 34, 653: 147, 654: 227, 655: 44, 656: 131, 657: 79, 658: 115, 659: 153, 660: 88, 661: 82, 662: 116, 663: 46, 664: 100, 665: 5, 666: 12, 667: 6, 668: 13, 669: 36, 670: 46, 671: 65, 672: 86, 673: 48, 674: 54, 675: 77, 676: 1, 677: 219, 678: 107, 679: 34, 680: 27, 681: 100, 682: 49, 683: 169, 684: 157, 685: 50, 686: 69, 687: 44, 688: 87, 689: 155, 690: 16, 691: 164, 692: 91, 693: 44, 694: 13, 695: 79, 696: 40, 697: 10, 698: 102, 699: 15, 700: 10, 701: 53, 702: 19, 703: 24, 704: 137, 705: 6, 706: 70, 707: 101, 708: 104, 709: 79, 710: 1, 711: 51, 712: 72, 713: 13, 714: 87, 715: 58, 716: 82, 717: 16, 718: 29, 719: 86, 720: 54, 721: 58, 722: 34, 723: 76, 724: 16, 725: 14, 726: 63, 727: 45, 728: 81, 729: 24, 730: 39, 731: 180, 732: 15, 733: 27, 734: 137, 735: 78, 736: 59, 737: 31, 738: 164, 739: 63, 740: 58, 741: 267, 742: 39, 743: 92, 744: 16, 745: 119, 746: 102, 747: 316, 748: 51, 749: 124, 750: 180, 751: 39, 752: 24, 753: 57, 754: 96, 755: 128, 756: 4, 757: 21, 758: 11, 759: 46, 760: 44, 761: 115, 762: 149, 763: 29, 764: 32, 765: 9, 766: 11, 767: 52, 768: 42, 769: 57, 770: 41, 771: 49, 772: 17, 773: 32, 774: 26, 775: 9, 776: 4, 777: 76, 778: 31, 779: 69, 780: 84, 781: 10, 782: 37, 783: 2, 784: 39, 785: 14, 786: 13, 787: 3, 788: 47, 789: 66, 790: 10, 791: 86, 792: 10, 793: 46, 794: 21, 795: 36, 796: 31, 797: 9, 798: 5, 799: 26, 800: 16, 801: 40, 802: 9, 803: 8, 804: 27, 805: 50, 806: 9, 807: 31, 808: 43, 809: 45, 810: 18, 811: 18, 812: 56, 813: 1, 814: 112, 815: 21, 816: 3, 817: 25, 818: 40, 819: 93, 820: 22, 821: 4, 822: 82, 823: 49, 824: 83, 825: 80, 826: 57, 827: 13, 828: 34, 829: 1, 830: 91, 831: 22, 832: 49, 833: 25, 834: 15, 835: 26, 836: 25, 837: 4, 838: 4, 839: 53, 840: 48, 841: 27, 842: 30, 843: 42, 844: 176, 845: 44, 846: 55, 847: 9, 848: 53, 849: 4, 850: 4, 851: 1, 852: 14, 853: 16, 854: 66, 855: 36, 856: 1, 857: 3, 858: 15, 859: 16, 860: 3, 861: 18, 862: 24, 863: 86, 864: 21, 865: 119, 866: 6, 867: 5, 868: 24, 869: 9, 870: 75, 871: 42, 872: 81, 873: 39, 874: 53, 875: 47, 876: 52, 877: 33, 878: 136, 879: 59, 880: 45, 881: 34, 882: 13, 883: 7, 884: 13, 885: 53, 886: 64, 887: 15, 888: 13, 889: 43, 890: 6, 891: 53, 892: 14, 893: 19, 894: 106, 895: 44, 896: 2, 897: 58, 898: 9, 899: 42, 900: 12, 901: 42, 902: 18, 903: 20, 904: 27, 905: 21, 906: 2, 907: 20, 908: 13, 909: 4, 910: 4, 911: 9, 912: 2, 913: 11, 914: 13, 915: 18, 916: 7, 917: 8, 918: 96, 919: 5, 920: 46, 921: 34, 922: 58, 923: 85, 924: 34, 925: 101, 926: 6, 927: 104, 928: 40, 929: 80, 930: 57, 931: 40, 932: 21, 933: 68, 934: 7, 935: 32, 936: 37, 937: 25, 938: 60, 939: 32, 940: 46, 941: 45, 942: 40, 943: 43, 944: 40, 945: 61, 946: 17, 947: 48, 948: 71, 949: 30, 950: 39, 951: 45, 952: 22, 953: 11, 954: 49, 955: 46, 956: 2, 957: 14, 958: 64, 959: 25, 960: 34, 961: 23, 962: 41, 963: 9, 964: 21, 965: 26, 966: 12, 967: 18, 968: 75, 969: 8, 970: 34, 971: 28, 972: 4, 973: 32, 974: 44, 975: 12, 976: 49, 977: 27, 978: 35, 979: 22, 980: 8, 981: 20, 982: 15, 983: 44, 984: 22, 985: 23, 986: 4, 987: 86, 988: 32, 989: 33, 990: 25, 991: 4, 992: 66, 993: 7, 994: 31, 995: 14, 996: 16, 997: 16, 998: 10, 999: 10, 1000: 17, 1001: 8, 1002: 8, 1003: 9, 1004: 22, 1005: 23, 1006: 47, 1007: 37, 1008: 64, 1009: 44, 1010: 93, 1011: 100, 1012: 38, 1013: 98, 1014: 12, 1015: 137, 1016: 50, 1017: 32, 1018: 31, 1019: 35, 1020: 38, 1021: 32, 1022: 31, 1023: 15, 1024: 44, 1025: 4, 1026: 3, 1027: 148, 1028: 14, 1029: 20, 1030: 7, 1031: 16, 1032: 32, 1033: 27, 1034: 68, 1035: 24, 1036: 24, 1037: 17, 1038: 90, 1039: 25, 1040: 62, 1041: 28, 1042: 8, 1043: 40, 1044: 25, 1045: 46, 1046: 134, 1047: 73, 1048: 25, 1049: 43, 1050: 41, 1051: 25, 1052: 24, 1053: 23, 1054: 10, 1055: 10, 1056: 22, 1057: 15, 1058: 35, 1059: 39, 1060: 29, 1061: 12, 1062: 41, 1063: 4, 1064: 53, 1065: 16, 1066: 44, 1067: 12, 1068: 18, 1069: 27, 1070: 16, 1071: 7, 1072: 66, 1073: 77, 1074: 7, 1075: 12, 1076: 8, 1077: 22, 1078: 45, 1079: 2, 1080: 8, 1081: 8, 1082: 6, 1083: 21, 1084: 11, 1085: 21, 1086: 10, 1087: 13, 1088: 38, 1089: 37, 1090: 43, 1091: 12, 1092: 23, 1093: 12, 1094: 29, 1095: 3, 1096: 18, 1097: 42, 1098: 13, 1099: 8, 1100: 74, 1101: 7, 1102: 19, 1103: 4, 1104: 18, 1105: 4, 1106: 18, 1107: 5, 1108: 28, 1109: 41, 1110: 7, 1111: 15, 1112: 22, 1113: 10, 1114: 29, 1115: 13, 1116: 19, 1117: 47, 1118: 59, 1119: 17, 1120: 21, 1121: 1, 1122: 3, 1123: 12, 1124: 4, 1125: 32, 1126: 11, 1127: 13, 1128: 28, 1129: 1, 1130: 13, 1131: 32, 1132: 30, 1133: 38, 1134: 46, 1135: 29, 1136: 29, 1137: 5, 1138: 33, 1139: 17, 1140: 9, 1141: 44, 1142: 15, 1143: 3, 1144: 9, 1145: 3, 1146: 21, 1147: 9, 1148: 26, 1149: 9, 1150: 7, 1151: 28, 1152: 19, 1153: 12, 1154: 3, 1155: 1, 1156: 25, 1157: 4, 1158: 11, 1159: 26, 1160: 13, 1161: 5, 1162: 25, 1163: 6, 1164: 14, 1165: 12, 1166: 11, 1167: 22, 1168: 10, 1169: 27, 1170: 14, 1171: 15, 1172: 7, 1173: 8, 1174: 5, 1175: 22, 1176: 7, 1177: 19, 1178: 9, 1179: 10, 1180: 10, 1181: 13, 1182: 19, 1183: 10, 1184: 18, 1185: 3, 1186: 13, 1187: 44, 1188: 3, 1189: 11, 1190: 3, 1191: 13, 1192: 10, 1193: 31, 1194: 11, 1195: 3, 1196: 45, 1197: 7, 1198: 23, 1199: 7, 1200: 1, 1201: 8, 1202: 21, 1203: 18, 1204: 6, 1205: 19, 1206: 17, 1207: 20, 1208: 15, 1209: 38, 1210: 12, 1211: 6, 1212: 6, 1213: 9, 1214: 30, 1215: 6, 1216: 39, 1217: 26, 1218: 20, 1219: 30, 1220: 39, 1221: 25, 1222: 4, 1223: 12, 1224: 14, 1225: 32, 1226: 8, 1227: 48, 1228: 13, 1229: 18, 1230: 22, 1231: 17, 1232: 6, 1233: 8, 1234: 1, 1235: 1, 1236: 6, 1237: 8, 1238: 18, 1239: 26, 1240: 6, 1241: 5, 1242: 7, 1243: 36, 1244: 19, 1245: 7, 1246: 6, 1247: 19, 1248: 12, 1249: 6, 1250: 8, 1251: 9, 1252: 7, 1253: 11, 1254: 8, 1255: 3, 1256: 4, 1257: 23, 1258: 4, 1259: 4, 1260: 4, 1261: 8, 1262: 15, 1263: 7, 1264: 19, 1265: 12, 1266: 33, 1267: 10, 1268: 10, 1269: 7, 1270: 7, 1271: 5, 1272: 15, 1273: 11, 1274: 4, 1275: 8, 1276: 19, 1277: 16, 1278: 9, 1279: 16, 1280: 13, 1281: 9, 1282: 19, 1283: 26, 1284: 15, 1285: 17, 1286: 6, 1287: 7, 1288: 7, 1289: 2, 1290: 15, 1291: 3, 1292: 3, 1293: 7, 1294: 7, 1295: 20, 1296: 12, 1297: 9, 1298: 8, 1299: 9, 1300: 5, 1301: 5, 1302: 18, 1303: 2, 1304: 7, 1305: 2, 1306: 2, 1307: 2, 1308: 1, 1309: 1, 1310: 16, 1311: 7, 1312: 14, 1313: 11, 1314: 23, 1315: 7, 1316: 4, 1317: 3, 1318: 4, 1319: 1, 1320: 2, 1321: 6, 1322: 3, 1323: 5, 1324: 1, 1325: 6, 1326: 3, 1327: 6, 1328: 1, 1329: 4, 1330: 4, 1331: 2, 1332: 5, 1333: 2, 1334: 11, 1335: 10, 1336: 9, 1337: 4, 1338: 1, 1339: 1, 1340: 1, 1341: 2, 1342: 1, 1343: 5, 1344: 2, 1345: 5, 1346: 4, 1347: 1, 1348: 1, 1349: 2, 1350: 3, 1351: 1, 1352: 5, 1353: 2, 1354: 6, 1355: 3, 1356: 3, 1357: 2, 1358: 2, 1359: 2, 1360: 3, 1361: 2, 1362: 1, 1363: 1, 1364: 2, 1365: 1, 1366: 5, 1367: 6, 1368: 4, 1369: 3, 1370: 2, 1371: 3, 1372: 1, 1373: 2, 1374: 10, 1375: 7, 1376: 4, 1377: 5, 1378: 7, 1379: 6, 1380: 8, 1381: 4, 1382: 6, 1383: 3, 1384: 5, 1385: 6, 1386: 3, 1387: 6, 1388: 3, 1389: 2, 1390: 3, 1391: 5, 1392: 9, 1393: 7, 1394: 6, 1395: 5, 1396: 5, 1397: 2, 1398: 7, 1399: 10, 1400: 18, 1401: 4, 1402: 4, 1403: 13, 1404: 6, 1405: 5, 1406: 20, 1407: 3, 1408: 7, 1409: 4, 1410: 28, 1411: 6, 1412: 8, 1413: 1, 1414: 9, 1415: 5, 1416: 2, 1417: 3, 1418: 16, 1419: 3, 1420: 11, 1421: 4, 1422: 4, 1423: 3, 1424: 10, 1425: 8, 1426: 5, 1427: 12, 1428: 4, 1429: 3, 1430: 5, 1431: 3, 1432: 2, 1433: 10, 1434: 7, 1435: 2, 1436: 9, 1437: 5, 1438: 8, 1439: 5, 1440: 7, 1441: 5, 1442: 4, 1443: 19, 1444: 4, 1445: 15, 1446: 1, 1447: 3, 1448: 8, 1449: 2, 1450: 15, 1451: 1, 1452: 1, 1453: 6, 1454: 2, 1455: 7, 1456: 1, 1457: 1, 1458: 7, 1459: 1, 1460: 1, 1461: 7, 1462: 3, 1463: 3, 1464: 3, 1465: 6, 1466: 2, 1467: 6, 1468: 12, 1469: 5, 1470: 9, 1471: 2, 1472: 9, 1473: 6, 1474: 8, 1475: 1, 1476: 2, 1477: 18, 1478: 8, 1479: 11, 1480: 2, 1481: 1, 1482: 12, 1483: 3, 1484: 4, 1485: 1, 1486: 5, 1487: 4, 1488: 5, 1489: 3, 1490: 2, 1491: 1, 1492: 1, 1493: 1, 1494: 5, 1495: 5, 1496: 2, 1497: 1, 1498: 4, 1499: 2, 1500: 5, 1501: 2, 1502: 10, 1503: 3, 1504: 1, 1505: 3, 1506: 1, 1507: 3, 1508: 5, 1509: 1, 1510: 5, 1511: 6, 1512: 3, 1513: 7, 1514: 1, 1515: 3, 1516: 5, 1517: 12, 1518: 2, 1519: 1, 1520: 4, 1521: 7, 1522: 2, 1523: 8, 1524: 1, 1525: 1, 1526: 7, 1527: 3, 1528: 5, 1529: 5, 1530: 7, 1531: 2, 1532: 1, 1533: 6, 1534: 4, 1535: 1, 1536: 4, 1537: 3, 1538: 4, 1539: 10, 1540: 2, 1541: 2, 1542: 1, 1543: 3, 1544: 4, 1545: 1, 1546: 2, 1547: 1, 1548: 2, 1549: 2, 1550: 2, 1551: 3, 1552: 4, 1553: 2, 1554: 5, 1555: 2, 1556: 1, 1557: 7, 1558: 1, 1559: 4, 1560: 1, 1561: 1, 1562: 1, 1563: 1, 1564: 1, 1565: 1, 1566: 1, 1567: 1, 1568: 1, 1569: 1, 1570: 1, 1571: 1, 1572: 2, 1573: 1, 1574: 1, 1575: 1, 1576: 1, 1577: 2, 1578: 1, 1579: 1, 1580: 1, 1581: 1, 1582: 1, 1583: 1, 1584: 2, 1585: 1, 1586: 1, 1587: 2, 1588: 4, 1589: 2, 1590: 6, 1591: 5, 1592: 1, 1593: 2, 1594: 1, 1595: 1, 1596: 5, 1597: 6, 1598: 1, 1599: 4, 1600: 1, 1601: 3, 1602: 1, 1603: 1, 1604: 4, 1605: 1, 1606: 3, 1607: 4, 1608: 3, 1609: 3, 1610: 2, 1611: 4, 1612: 1, 1613: 1, 1614: 10, 1615: 1, 1616: 2, 1617: 1, 1618: 1, 1619: 9, 1620: 1, 1621: 3, 1622: 3, 1623: 1, 1624: 1, 1625: 1, 1626: 1, 1627: 4, 1628: 2, 1629: 1, 1630: 2, 1631: 1, 1632: 1, 1633: 1, 1634: 1, 1635: 1, 1636: 1, 1637: 1, 1638: 3, 1639: 1, 1640: 1, 1641: 2, 1642: 4, 1643: 2, 1644: 1, 1645: 2, 1646: 1, 1647: 1, 1648: 1, 1649: 1, 1650: 1, 1651: 3, 1652: 1, 1653: 1, 1654: 1, 1655: 2, 1656: 1, 1657: 3, 1658: 1, 1659: 1, 1660: 1, 1661: 2, 1662: 1, 1663: 4, 1664: 1, 1665: 1, 1666: 1, 1667: 1, 1668: 1, 1669: 1, 1670: 1, 1671: 2, 1672: 1, 1673: 1, 1674: 1, 1675: 1, 1676: 1, 1677: 1, 1678: 1, 1679: 1, 1680: 1, 1681: 1}\n"
     ]
    },
    {
     "data": {
      "image/png": "[encoded data removed]",
      "text/plain": [
       "<Figure size 1000x250 with 2 Axes>"
      ]
     },
     "metadata": {},
     "output_type": "display_data"
    }
   ],
   "source": [
    "num_ratings_per_movie = count_ratings_per_movie(dataset)\n",
    "print(num_ratings_per_movie)\n",
    "num_ratings_per_user = count_ratings_per_user(dataset)\n",
    "\n",
    "fig, axes = plt.subplots(ncols=2, figsize=(10, 2.5))\n",
    "for ax, ratings, unit in zip(\n",
    "    axes, (num_ratings_per_movie, num_ratings_per_user), (\"movie\", \"user\")\n",
    "):\n",
    "    ax.hist(ratings.values())\n",
    "    ax.set_title(f\"# Ratings per {unit} (histogram)\")\n",
    "    ax.set_xlabel(\"# Ratings\")\n",
    "    ax.set_ylabel(\"# Occurences\")"
   ]
  },
  {
   "cell_type": "code",
   "execution_count": 66,
   "metadata": {},
   "outputs": [
    {
     "name": "stdout",
     "output_type": "stream",
     "text": [
      "min # of movies per user = 20, \n",
      "min # of users per movie = 1.\n"
     ]
    }
   ],
   "source": [
    "print(\n",
    "    \"min # of movies per user = {}, \\nmin # of users per movie = {}.\".format(\n",
    "        min(num_ratings_per_user.values()), min(num_ratings_per_movie.values())\n",
    "    )\n",
    ")"
   ]
  },
  {
   "cell_type": "markdown",
   "metadata": {},
   "source": [
    "# Remove movies with too few ratings\n",
    "\n",
    "As is typical for real-life data, those distributions have a very long tail. There are some movies that have only one rating. Predictions for those will be very unreliable, so we want to take them out of the dataset."
   ]
  },
  {
   "cell_type": "code",
   "execution_count": 67,
   "metadata": {},
   "outputs": [],
   "source": [
    "def remove_rare_movies(dataset: Dataset, min_ratings_per_movie=10) -> Dataset:\n",
    "    \"\"\"Filter a dataset, and keep only movies with a minimum number of reviews\n",
    "\n",
    "    Inputs:\n",
    "        dataset: Dataset\n",
    "        min_cases: int, the required minimum number\n",
    "\n",
    "    Returns:\n",
    "        new dataset: Dataset\n",
    "\n",
    "    >>> test_dataset = Dataset(np.array([0, 0, 1]), np.array([0, 1, 1]), np.array([1.0, 1.0, 1.0]))\n",
    "    >>> remove_rare_movies(test_dataset, 2)\n",
    "    Dataset(movies=array([0, 0]), users=array([0, 1]), ratings=array([1., 1.]))\n",
    "    \"\"\"\n",
    "    num_ratings_per_movie = count_ratings_per_movie(dataset)\n",
    "    \n",
    "    remaning_movies = [movie for movie, count in num_ratings_per_movie.items() if count >= min_ratings_per_movie]    \n",
    "\n",
    "    # drop all movies not in remaing movies of dataset\n",
    "    indices = [i for i, movie in enumerate(dataset.movies) if movie in remaning_movies]\n",
    "\n",
    "    pruned_dataset = Dataset(\n",
    "        dataset.movies[indices],\n",
    "        dataset.users[indices],\n",
    "        dataset.ratings[indices],\n",
    "    )\n",
    "    return pruned_dataset"
   ]
  },
  {
   "cell_type": "code",
   "execution_count": 68,
   "metadata": {},
   "outputs": [
    {
     "name": "stdout",
     "output_type": "stream",
     "text": [
      "100000\n",
      "100000\n",
      "100000\n",
      "✅ Your `remove_rare_movies` passes some basic tests.\n"
     ]
    }
   ],
   "source": [
    "remove_rare_movies(dataset)\n",
    "print(len(dataset.movies))\n",
    "print(len(dataset.users))\n",
    "print(len(dataset.ratings))\n",
    "test(remove_rare_movies)"
   ]
  },
  {
   "cell_type": "code",
   "execution_count": 69,
   "metadata": {},
   "outputs": [
    {
     "name": "stdout",
     "output_type": "stream",
     "text": [
      "97953\n",
      "97953\n",
      "97953\n",
      "There are 97953 ratings left after pruning the dataset.\n"
     ]
    }
   ],
   "source": [
    "pruned_dataset = remove_rare_movies(dataset)\n",
    "print(len(pruned_dataset.movies))\n",
    "print(len(pruned_dataset.users))\n",
    "print(len(pruned_dataset.ratings))\n",
    "print(\n",
    "    f\"There are {len(pruned_dataset.ratings)} ratings left after pruning the dataset.\"\n",
    ")"
   ]
  },
  {
   "cell_type": "markdown",
   "metadata": {},
   "source": [
    "# Split the data into a train and test set"
   ]
  },
  {
   "cell_type": "code",
   "execution_count": 70,
   "metadata": {},
   "outputs": [],
   "source": [
    "def split_dataset(dataset, p_test=0.1, seed=1):\n",
    "    \"\"\"\n",
    "    Split a dataset randomly into a train and a test part\n",
    "\n",
    "    Inputs:\n",
    "        dataset: Dataset\n",
    "        p_test: float\n",
    "            propability (0 < p_test < 1) for a data point to go into the test set\n",
    "        seed: integer\n",
    "\n",
    "    Returns:\n",
    "        train_dataset: Dataset\n",
    "        test_dataset: Dataset\n",
    "\n",
    "    >>> split_dataset(Dataset(np.array([0, 0]), np.array([1, 0]), np.array([2.0, 1.0])), p_test=0)\n",
    "    (Dataset(movies=array([0, 0]), users=array([1, 0]), ratings=array([2., 1.])), Dataset(movies=array([], dtype=int64), users=array([], dtype=int64), ratings=array([], dtype=float64)))\n",
    "\n",
    "    >>> split_dataset(Dataset(np.array([0, 0]), np.array([1, 0]), np.array([2.0, 1.0])), p_test=1)\n",
    "    (Dataset(movies=array([], dtype=int64), users=array([], dtype=int64), ratings=array([], dtype=float64)), Dataset(movies=array([0, 0]), users=array([1, 0]), ratings=array([2., 1.])))\n",
    "    \"\"\"\n",
    "    # use this generator (https://numpy.org/doc/stable/reference/random/index.html)\n",
    "    # you should use rng.uniform() once inside this function to match the automatic test case\n",
    "\n",
    "    rng = np.random.default_rng(seed)\n",
    "    mask = rng.uniform(size=len(dataset)) < p_test\n",
    "    train_dataset = Dataset(\n",
    "        dataset.movies[~mask],\n",
    "        dataset.users[~mask],\n",
    "        dataset.ratings[~mask]\n",
    "    )\n",
    "    test_dataset = Dataset(\n",
    "        dataset.movies[mask],\n",
    "        dataset.users[mask],\n",
    "        dataset.ratings[mask]\n",
    "    )\n",
    "    return train_dataset, test_dataset"
   ]
  },
  {
   "cell_type": "code",
   "execution_count": 71,
   "metadata": {},
   "outputs": [
    {
     "name": "stdout",
     "output_type": "stream",
     "text": [
      "✅ Your `split_dataset` passes some basic tests.\n"
     ]
    }
   ],
   "source": [
    "split_dataset(pruned_dataset)\n",
    "\n",
    "test(split_dataset)"
   ]
  },
  {
   "cell_type": "code",
   "execution_count": 72,
   "metadata": {},
   "outputs": [
    {
     "name": "stdout",
     "output_type": "stream",
     "text": [
      "Number of training points: 88354\n",
      "Number of test points: 9599\n"
     ]
    }
   ],
   "source": [
    "train_data, test_data = split_dataset(pruned_dataset, p_test=0.1, seed=10)\n",
    "print(\"Number of training points:\", len(train_data.ratings))\n",
    "print(\"Number of test points:\", len(test_data.ratings))"
   ]
  },
  {
   "cell_type": "markdown",
   "metadata": {},
   "source": [
    "# Visualize the dataset\n",
    "So far, our data has been represented by a list of ratings. We will look at how we can interpret these ratings in a matrix (movies x users) and plot it."
   ]
  },
  {
   "cell_type": "code",
   "execution_count": 73,
   "metadata": {},
   "outputs": [],
   "source": [
    "def to_matrix(dataset, num_movies, num_users):\n",
    "    \"\"\"\n",
    "    Construct a dense matrix out of the dataset.\n",
    "\n",
    "    Input:\n",
    "        dataset: Dataset\n",
    "\n",
    "    Output:\n",
    "        matrix: np.array of floats: (# movies, # users) -> rating (float) or np.NaN if unavailable\n",
    "\n",
    "    >>> to_matrix(Dataset(np.array([1, 1, 0]), np.array([0, 1, 0]), np.array([1.0, 3.0, 2.5])), 3, 2)\n",
    "    array([[2.5, nan],\n",
    "           [1. , 3. ],\n",
    "           [nan, nan]])\n",
    "    \"\"\"\n",
    "    m = (\n",
    "        np.zeros([num_movies, num_users]) * np.NaN\n",
    "    )  # We want NaNs for unavailable ratings\n",
    "    for movie, user, rating in zip(dataset.movies, dataset.users, dataset.ratings):\n",
    "        m[movie, user] = rating\n",
    "    ### HINT: Edit `m` by filling in the available ratings\n",
    "    return m"
   ]
  },
  {
   "cell_type": "code",
   "execution_count": 74,
   "metadata": {},
   "outputs": [
    {
     "name": "stdout",
     "output_type": "stream",
     "text": [
      "✅ Your `to_matrix` passes some basic tests.\n"
     ]
    }
   ],
   "source": [
    "test(to_matrix)"
   ]
  },
  {
   "cell_type": "markdown",
   "metadata": {},
   "source": [
    "Let's plot the train and test dataset "
   ]
  },
  {
   "cell_type": "code",
   "execution_count": 75,
   "metadata": {},
   "outputs": [
    {
     "data": {
      "image/png": "[encoded data removed]",
      "text/plain": [
       "<Figure size 800x300 with 4 Axes>"
      ]
     },
     "metadata": {},
     "output_type": "display_data"
    }
   ],
   "source": [
    "fig, axes = plt.subplots(ncols=3, figsize=(8, 3))\n",
    "for ax, label, data in zip(\n",
    "    axes, (\"All data\", \"Train data\", \"Test data\"), (dataset, train_data, test_data)\n",
    "):\n",
    "    im = ax.matshow(to_matrix(data, num_movies, num_users))\n",
    "    ax.set_title(label)\n",
    "    ax.set_xlabel(\"Movie\")\n",
    "    ax.set_ylabel(\"User\")\n",
    "fig.colorbar(im, label=\"Rating\");"
   ]
  },
  {
   "cell_type": "markdown",
   "metadata": {},
   "source": [
    "# Comparing predictors\n",
    "\n",
    "The goal of recommender systems is to fill in those matrices. In the remainder of this Notebook, we will implement different methods of making those predictions. Let's first develop the tools to compare them.\n",
    "\n",
    "Our prediction methods will all have the following form:"
   ]
  },
  {
   "cell_type": "code",
   "execution_count": 76,
   "metadata": {},
   "outputs": [],
   "source": [
    "class Predictor:\n",
    "    def __init__(self, train_data: Dataset):\n",
    "        # This is where you can do any preparation or 'training' if necessary.\n",
    "        pass\n",
    "\n",
    "    def __call__(self, test_data: Dataset):\n",
    "        \"\"\"\n",
    "        Make predictions for the users and movies in the test dataset\n",
    "        (without looking at the ratings).\n",
    "\n",
    "        Inputs:\n",
    "            test_data: Dataset (with `n` entries)\n",
    "\n",
    "        Output:\n",
    "            predictions: np.array of floats, shape (`n`)\n",
    "        \"\"\"\n",
    "        raise NotImplementedError()"
   ]
  },
  {
   "cell_type": "markdown",
   "metadata": {},
   "source": [
    " You would use a predictor like this as follows:\n",
    " \n",
    " ```\n",
    " p = Predictor(train_data)  # this initializes the model. This may include training.\n",
    " predictions = p(test_data)  # this calls `__call__` and makes a prediction.\n",
    " ```"
   ]
  },
  {
   "cell_type": "markdown",
   "metadata": {},
   "source": [
    "As an example, a predictor that recommends the same rating everywhere would look like this:"
   ]
  },
  {
   "cell_type": "code",
   "execution_count": 77,
   "metadata": {},
   "outputs": [],
   "source": [
    "class GlobalMeanPredictor(Predictor):\n",
    "\n",
    "    def __init__(self, train_data: Dataset):\n",
    "        self.mean = np.mean(train_data.ratings)\n",
    "        \n",
    "\n",
    "    def __call__(self, test_data: Dataset):\n",
    "        \"\"\"\n",
    "        Always predict the mean rating from the training set\n",
    "\n",
    "        >>> train_data = Dataset(np.array([1, 2, 3, 4]), np.array([1, 2, 3, 4]), np.array([1.0, 2.0, 2.0, 5.0]))\n",
    "        >>> test_data = Dataset(np.array([1, 2, 3, 4]), np.array([2, 1, 4, 0]), np.array([4.0, 1.0, 1.0, 2.0]))\n",
    "        >>> mean_predictor = GlobalMeanPredictor(train_data)\n",
    "        >>> mean_predictor(test_data)\n",
    "        array([2.5, 2.5, 2.5, 2.5])\n",
    "        \"\"\"\n",
    "        return np.full_like(test_data.ratings, fill_value=self.mean)"
   ]
  },
  {
   "cell_type": "code",
   "execution_count": 78,
   "metadata": {},
   "outputs": [],
   "source": [
    "#test(GlobalMeanPredictor)"
   ]
  },
  {
   "cell_type": "markdown",
   "metadata": {},
   "source": [
    "We can evaluate the predictions using Mean Squared Error:"
   ]
  },
  {
   "cell_type": "code",
   "execution_count": 79,
   "metadata": {},
   "outputs": [],
   "source": [
    "def mse(predictions, real_ratings):\n",
    "    \"\"\"Compute the mean squared prediction error\n",
    "\n",
    "    Inputs:\n",
    "        predictions: np.array of floats, shape (n)\n",
    "        real_ratings: np.array of floats, shape (n)\n",
    "\n",
    "    Returns:\n",
    "        mean squared error: float\n",
    "\n",
    "    >>> mse(np.array([1., 1.2, 2.]), np.array([2., 1., 1.5]))\n",
    "    0.43\n",
    "    >>> mse(np.array([4., 2., 1.]), np.array([4., 3., 1.]))\n",
    "    0.3333333333333333\n",
    "    \"\"\"\n",
    "    return np.mean((predictions - real_ratings) ** 2)"
   ]
  },
  {
   "cell_type": "code",
   "execution_count": 80,
   "metadata": {},
   "outputs": [
    {
     "name": "stdout",
     "output_type": "stream",
     "text": [
      "✅ Your `mse` passes some basic tests.\n"
     ]
    }
   ],
   "source": [
    "test(mse)"
   ]
  },
  {
   "cell_type": "markdown",
   "metadata": {},
   "source": [
    "The error for the global mean predictor can now be computed:"
   ]
  },
  {
   "cell_type": "code",
   "execution_count": 81,
   "metadata": {},
   "outputs": [
    {
     "data": {
      "text/plain": [
       "1.2454544657178057"
      ]
     },
     "execution_count": 81,
     "metadata": {},
     "output_type": "execute_result"
    }
   ],
   "source": [
    "predict_global_mean = GlobalMeanPredictor(train_data)\n",
    "\n",
    "mse(predict_global_mean(test_data), test_data.ratings)"
   ]
  },
  {
   "cell_type": "markdown",
   "metadata": {},
   "source": [
    "It is always good to include simple baselines like this one in your machine learning experimentation. We now know that we should at least beat an MSE of `1.24` on the test set."
   ]
  },
  {
   "cell_type": "markdown",
   "metadata": {},
   "source": [
    "## Baselines "
   ]
  },
  {
   "cell_type": "markdown",
   "metadata": {},
   "source": [
    "We will now gradually make the baseline predictor more complex, by differentiating between users. The idea is that some users will give higher scores on average than others."
   ]
  },
  {
   "cell_type": "markdown",
   "metadata": {},
   "source": [
    "### User's mean prediction\n",
    "\n",
    "Here, to predict the score for a tuple `(movie, user)`, we will return the  average all movie ratings of the `user`."
   ]
  },
  {
   "cell_type": "code",
   "execution_count": 82,
   "metadata": {},
   "outputs": [],
   "source": [
    "class UserMeanPredictor(Predictor):\n",
    "\n",
    "    def __init__(self, train_data: Dataset):\n",
    "        self.means = np.zeros(num_users)\n",
    "        for user in range(num_users):\n",
    "            self.means[user] = np.mean(train_data.ratings[train_data.users == user])\n",
    "\n",
    "    def __call__(self, test_data: Dataset):\n",
    "        \"\"\"\n",
    "        Predict the mean rating of the user we are predicting for.\n",
    "\n",
    "        >>> train_data = Dataset(np.array([1, 2, 3, 4]), np.array([1, 2, 2, 0]), np.array([1.0, 2.0, 2.5, 5.0]))\n",
    "        >>> test_data = Dataset(np.array([1, 2, 3, 4]), np.array([2, 1, 1, 0]), np.array([4.0, 1.0, 1.0, 2.0]))\n",
    "        >>> mean_predictor = UserMeanPredictor(train_data)\n",
    "        >>> mean_predictor(test_data)\n",
    "        array([2.25, 1.  , 1.  , 5.  ])\n",
    "        \"\"\"\n",
    "        return self.means[test_data.users]"
   ]
  },
  {
   "cell_type": "code",
   "execution_count": 83,
   "metadata": {},
   "outputs": [
    {
     "data": {
      "text/plain": [
       "array([2.25, 1.  , 1.  , 5.  ])"
      ]
     },
     "execution_count": 83,
     "metadata": {},
     "output_type": "execute_result"
    }
   ],
   "source": [
    "#test(UserMeanPredictor)\n",
    "\n",
    "train_data_test = Dataset(np.array([1, 2, 3, 4]), np.array([1, 2, 2, 0]), np.array([1.0, 2.0, 2.5, 5.0]))\n",
    "test_data_test = Dataset(np.array([1, 2, 3, 4]), np.array([2, 1, 1, 0]), np.array([4.0, 1.0, 1.0, 2.0]))\n",
    "mean_predictor = UserMeanPredictor(train_data_test)\n",
    "mean_predictor(test_data_test)\n"
   ]
  },
  {
   "cell_type": "markdown",
   "metadata": {},
   "source": [
    "Is this working better than predicting the global mean?"
   ]
  },
  {
   "cell_type": "code",
   "execution_count": 84,
   "metadata": {},
   "outputs": [
    {
     "data": {
      "text/plain": [
       "1.082106040332895"
      ]
     },
     "execution_count": 84,
     "metadata": {},
     "output_type": "execute_result"
    }
   ],
   "source": [
    "predict_user_mean = UserMeanPredictor(train_data)\n",
    "\n",
    "mse(predict_user_mean(test_data), test_data.ratings)"
   ]
  },
  {
   "cell_type": "markdown",
   "metadata": {},
   "source": [
    "Q: Why would always predicting the user's mean be pretty useless in practice?\n",
    "\n",
    "Q: If you want, you can improve the predictor by falling back to the global mean in case we haven't seen any ratings of a user before (or not enough of them)."
   ]
  },
  {
   "cell_type": "markdown",
   "metadata": {},
   "source": [
    "### Movie's mean prediction\n",
    "\n",
    "Here, to predict the score for a tuple `(movie, user)`, we will return the  average all movie ratings of the `movie`. \n",
    "\n",
    "Under what assumption is this a good model?"
   ]
  },
  {
   "cell_type": "code",
   "execution_count": 86,
   "metadata": {},
   "outputs": [],
   "source": [
    "class MovieMeanPredictor(Predictor):\n",
    "    \"\"\"\n",
    "    Predict the mean rating of the movie, irrespective of the user\n",
    "\n",
    "    >>> train_data = Dataset(np.array([0, 0, 1, 1, 2]), np.array([1, 2, 3, 4, 5]), np.array([4.0, 1.0, 1.0, 2.0, 1.0]))\n",
    "    >>> test_data = Dataset(np.array([0, 1, 2, 1]), np.array([1, 2, 2, 0]), np.array([1.0, 2.0, 2.5, 5.0]))\n",
    "    >>> mean_predictor = MovieMeanPredictor(train_data)\n",
    "    >>> mean_predictor(test_data)\n",
    "    array([2.5, 1.5, 1. , 1.5])\n",
    "    \"\"\"\n",
    "\n",
    "    def __init__(self, train_data: Dataset):\n",
    "        self.means = np.zeros(num_movies)\n",
    "        for movie in range(num_movies):\n",
    "            self.means[movie] = np.mean(train_data.ratings[train_data.movies == movie])\n",
    "\n",
    "    def __call__(self, test_data: Dataset):\n",
    "        return self.means[test_data.movies]"
   ]
  },
  {
   "cell_type": "code",
   "execution_count": 87,
   "metadata": {},
   "outputs": [
    {
     "name": "stderr",
     "output_type": "stream",
     "text": [
      "/Users/johannes/miniconda3/lib/python3.11/site-packages/numpy/core/fromnumeric.py:3464: RuntimeWarning: Mean of empty slice.\n",
      "  return _methods._mean(a, axis=axis, dtype=dtype,\n",
      "/Users/johannes/miniconda3/lib/python3.11/site-packages/numpy/core/_methods.py:192: RuntimeWarning: invalid value encountered in scalar divide\n",
      "  ret = ret.dtype.type(ret / rcount)\n"
     ]
    },
    {
     "data": {
      "text/plain": [
       "array([2.5, 1.5, 1. , 1.5])"
      ]
     },
     "execution_count": 87,
     "metadata": {},
     "output_type": "execute_result"
    }
   ],
   "source": [
    "#test(MovieMeanPredictor)\n",
    "train_data_test = Dataset(np.array([0, 0, 1, 1, 2]), np.array([1, 2, 3, 4, 5]), np.array([4.0, 1.0, 1.0, 2.0, 1.0]))\n",
    "test_data_test = Dataset(np.array([0, 1, 2, 1]), np.array([1, 2, 2, 0]), np.array([1.0, 2.0, 2.5, 5.0]))\n",
    "mean_predictor = MovieMeanPredictor(train_data_test)\n",
    "mean_predictor(test_data_test)"
   ]
  },
  {
   "cell_type": "code",
   "execution_count": 88,
   "metadata": {},
   "outputs": [
    {
     "data": {
      "text/plain": [
       "1.0125633530609897"
      ]
     },
     "execution_count": 88,
     "metadata": {},
     "output_type": "execute_result"
    }
   ],
   "source": [
    "predict_movie_mean = MovieMeanPredictor(train_data)\n",
    "\n",
    "mse(predict_movie_mean(test_data), test_data.ratings)"
   ]
  },
  {
   "cell_type": "markdown",
   "metadata": {},
   "source": [
    "### Matrix Factorization\n",
    "\n",
    "With those baselines, we can implement a more realistic recommendation model that using Matrix Factorization.\n",
    "\n",
    "- To each movie $i$ in the dataset, we will assign a $d$-dimensional trainable ‘representation vector’ $\\mathbf{m}_i$.\n",
    "- To each user $j$ in the dataset, we will assign a $d$-dimensional trainable ‘representation vector’ $\\mathbf{u}_j$.\n",
    "- You can summarize those representations in two matrices: $\\mathbf{M}$ of size `(#movies, d)`, and $\\mathbf{U}$ of size `(#users, d)`.\n",
    "- The predicted score we will give for a movie $i$ and a user $j$ will be the dot product $\\mathbf{m}_i \\cdot \\mathbf{u}_j$.\n",
    "- You can simultaneously express the predicted scores for all movies and all users as a matrix of size `(#movies, #users)` as the matrix product $\\mathbf{M} \\mathbf{U}^\\top$. This interpretation gives the name to this model.\n",
    "- Given a training set $T$ with rating triples `(movie i, user j, rating r)`,\n",
    "  we will optimize the mean squared prediction error $\\frac{1}{|T|}\\sum_{(i, j, r) \\in T} (\\mathbf{m}_i \\cdot \\mathbf{u}_j - r)^2$ over the training set. "
   ]
  },
  {
   "cell_type": "code",
   "execution_count": 89,
   "metadata": {},
   "outputs": [],
   "source": [
    "class MatrixFactorizationPredictor(Predictor):\n",
    "    \"\"\"\n",
    "    Predict the rating of a user/movie pair as the dot-product\n",
    "    of representation vectors of the user and the movie.\n",
    "\n",
    "    >>> train_data = Dataset(np.array([0, 0, 1, 1, 2]), np.array([1, 2, 3, 4, 5]), np.array([4.0, 1.0, 1.0, 2.0, 1.0]))\n",
    "    >>> test_data = Dataset(np.array([0, 1, 2, 1]), np.array([1, 2, 2, 0]), np.array([1.0, 2.0, 2.5, 5.0]))\n",
    "    >>> mean_predictor = MatrixFactorizationPredictor(train_data)\n",
    "    >>> mean_predictor(test_data)  # the factorization is not yet optimized here\n",
    "    array([ 2.62654714, -2.89866225,  0.70909287,  5.29901482])\n",
    "    \"\"\"\n",
    "\n",
    "    def __init__(self, train_data: Dataset, num_features=20, seed=1):\n",
    "        # Randomly initialize features for the users and the movies from N(0, 1)\n",
    "\n",
    "        # use this generator (https://numpy.org/doc/stable/reference/random/index.html)\n",
    "        # you are expected to use rng.normal() twice in this function to match the tests, once for movies, and then once for users\n",
    "        rng = np.random.default_rng(seed)\n",
    "\n",
    "        num_movies = np.max(train_data.movies) + 1\n",
    "        num_users = np.max(train_data.users) + 1\n",
    "        ####################################\n",
    "        ### ___ ENTER YOUR CODE HERE ___ ###\n",
    "        ####################################\n",
    "        self.movie_features = rng.normal(size=(num_movies, num_features))\n",
    "        self.user_features = rng.normal(size=(num_users, num_features))\n",
    "\n",
    "        # Normally, you should train the model here, but we will skip this\n",
    "        # for now, to be able to take it step-by-step.\n",
    "\n",
    "    def __call__(self, test_data: Dataset):\n",
    "        # Predict the ratings as the dot product of the user and movie features\n",
    "        ####################################\n",
    "        ### ___ ENTER YOUR CODE HERE ___ ###\n",
    "        ####################################\n",
    "        return np.sum(self.movie_features[test_data.movies] * self.user_features[test_data.users], axis=1)"
   ]
  },
  {
   "cell_type": "code",
   "execution_count": 91,
   "metadata": {},
   "outputs": [
    {
     "data": {
      "text/plain": [
       "array([ 2.62654714, -2.89866225,  0.70909287,  5.29901482])"
      ]
     },
     "execution_count": 91,
     "metadata": {},
     "output_type": "execute_result"
    }
   ],
   "source": [
    "#test(MatrixFactorizationPredictor)\n",
    "train_data_test = Dataset(np.array([0, 0, 1, 1, 2]), np.array([1, 2, 3, 4, 5]), np.array([4.0, 1.0, 1.0, 2.0, 1.0]))\n",
    "test_data_test = Dataset(np.array([0, 1, 2, 1]), np.array([1, 2, 2, 0]), np.array([1.0, 2.0, 2.5, 5.0]))\n",
    "mean_predictor = MatrixFactorizationPredictor(train_data_test)\n",
    "mean_predictor(test_data_test)  # the factorization is not yet optimized here"
   ]
  },
  {
   "cell_type": "markdown",
   "metadata": {},
   "source": [
    "Without training, the `MatrixFactorizationPredictor` would not perform so well:"
   ]
  },
  {
   "cell_type": "code",
   "execution_count": 92,
   "metadata": {},
   "outputs": [
    {
     "data": {
      "text/plain": [
       "34.84973825903476"
      ]
     },
     "execution_count": 92,
     "metadata": {},
     "output_type": "execute_result"
    }
   ],
   "source": [
    "predict_global_mean = MatrixFactorizationPredictor(train_data)\n",
    "\n",
    "mse(predict_global_mean(test_data), test_data.ratings)"
   ]
  },
  {
   "cell_type": "markdown",
   "metadata": {},
   "source": [
    "### Optimize the factorization using SGD\n",
    "\n",
    "One way to optimize the representation vectors for movies and users, is to sample terms from the following loss function:\n",
    "\n",
    "$$\\frac{1}{|T|}\\sum_{(i, j, r) \\in T} (\\mathbf{m}_i \\cdot \\mathbf{u}_j - r)^2$$\n",
    "\n",
    "and optimize the sampled $\\mathbf{m}_i$ and $\\mathbf{u}_j$ using a stochastic gradient descent step.\n",
    "\n",
    "To improve generalization, we will add L2 regularization (also known as `weight decay`) to this model, both for the movie representations as well as for the user representations. Because those weights are unique for each movie / user, you should also sample those stochastically. If you sample a triple `(i, j, r)`, you should minimize:\n",
    "\n",
    "$$ (\\mathbf{m}_i \\cdot \\mathbf{u}_j - r)^2 + \\lambda_\\text{movie} \\left\\lVert\\mathbf{m}_i\\right\\rVert^2 + \\lambda_\\text{user} \\left\\lVert\\mathbf{u}_j\\right\\rVert^2$$\n",
    "\n",
    "You should start by computing a gradient for this term."
   ]
  },
  {
   "cell_type": "code",
   "execution_count": null,
   "metadata": {},
   "outputs": [],
   "source": [
    "learning_rate = 0.02\n",
    "weight_decay_movie = 0.3\n",
    "weight_decay_user = 0.3\n",
    "\n",
    "predictor = MatrixFactorizationPredictor(train_data)\n",
    "rng = np.random.default_rng(0)\n",
    "for epoch in range(20):\n",
    "    # Shuffle the dataset\n",
    "    datapoint_indices = rng.permutation(len(train_data.ratings))\n",
    "    for point in datapoint_indices:\n",
    "        movie = train_data.movies[point]\n",
    "        user = train_data.users[point]\n",
    "        rating = train_data.ratings[point]\n",
    "\n",
    "        # Optimize the factorizations in `predictor` using an SGD\n",
    "        # step based on the datapoint (movie, user, rating).\n",
    "        \n",
    "\n",
    "    learning_rate *= 0.9  # decay the learning rate after each epoch\n",
    "\n",
    "    print(\n",
    "        f\"Train error after epoch {epoch+1}: {mse(predictor(train_data), train_data.ratings)}\"\n",
    "    )\n",
    "    print(\n",
    "        f\"Test error after epoch {epoch+1}: {mse(predictor(test_data), test_data.ratings)}\"\n",
    "    )"
   ]
  },
  {
   "cell_type": "markdown",
   "metadata": {},
   "source": [
    "You should expect the test error to go down below 1.0.\n",
    "\n",
    "Feel free to play with the weight decay parameters and learning rates to improve these results."
   ]
  },
  {
   "cell_type": "markdown",
   "metadata": {},
   "source": [
    "### Optimize the factoriziation using Alternating Least Squares\n",
    "\n",
    "Instead of optimizing the objective\n",
    "\n",
    "$$\\frac{1}{|T|}\\sum_{(i, j, r) \\in T} (\\mathbf{m}_i \\cdot \\mathbf{u}_j - r)^2 + \\lambda_\\text{movie} \\left\\lVert \\mathbf{M} \\right\\rVert^2_\\text{F} + \\lambda_\\text{user} \\left\\lVert \\mathbf{U} \\right\\rVert^2_\\text{F}$$\n",
    "\n",
    "using SGD by sampling terms, we can also use ‘Alternating Least Squares’. For ALS, we make the observation that, if all users representations $\\mathbf{u}_j$ are fixed, optimizing all $\\mathbf{m}_i$ is a simple least squares problem. Similarly, if the movie representations $\\mathbf{m}_i$ are all fixed, optimizing all $\\mathbf{u}_j$ is a simple least squares problem. \n",
    "\n",
    "What we will do here, is alternate between the following steps:\n",
    "- Fix the user representations, and perfectly optimize the movie representations.\n",
    "- Fix the movie representations, and perfectly optimize the user representations."
   ]
  },
  {
   "cell_type": "code",
   "execution_count": null,
   "metadata": {},
   "outputs": [],
   "source": [
    "movie_regularization = 20\n",
    "user_regularization = 20\n",
    "max_iterations = 1000\n",
    "stop_criterion = 1e-4\n",
    "\n",
    "predictor = MatrixFactorizationPredictor(train_data)\n",
    "user_features = predictor.user_features\n",
    "movie_features = predictor.movie_features\n",
    "rng = np.random.default_rng(0)\n",
    "\n",
    "prev_train_error = None\n",
    "\n",
    "for iteration in range(max_iterations):\n",
    "    # Optimize the user features\n",
    "    for user in np.unique(train_data.users):\n",
    "        # Update `user_features[user]` by optimizing the regularized corresponding least squares objective\n",
    "        mask = train_data.users == user\n",
    "        user_movies = train_data.movies[mask]\n",
    "        ####################################\n",
    "        ### ___ Enter your code here ___ ###\n",
    "        ####################################\n",
    "\n",
    "    # Optimize the movie features using least squares\n",
    "    for movie in np.unique(train_data.movies):\n",
    "        # Update `movie_features[movie]` by optimizing the regularized corresponding least squares objective\n",
    "        mask = train_data.movies == movie\n",
    "        movie_users = train_data.users[mask]\n",
    "        ####################################\n",
    "        ### ___ Enter your code here ___ ###\n",
    "        ####################################\n",
    "\n",
    "    train_error = mse(predictor(train_data), train_data.ratings)\n",
    "    print(f\"Train error after step {iteration+1}: {train_error}\")\n",
    "    print(\n",
    "        f\"Test error after step {iteration+1}: {mse(predictor(test_data), test_data.ratings)}\"\n",
    "    )\n",
    "\n",
    "    # Stop if the training error is not going down more than 'stop_criterion'\n",
    "    ####################################\n",
    "    ### ___ Enter your code here ___ ###\n",
    "    ####################################"
   ]
  },
  {
   "cell_type": "markdown",
   "metadata": {},
   "source": [
    "You should find that this beats the simple baselines.\n",
    "Using default SGD parameters, the alternating least squares solution here outperforms it, but by tuning SGD carefully, you should be able to get the same quality."
   ]
  }
 ],
 "metadata": {
  "kernelspec": {
   "display_name": "base",
   "language": "python",
   "name": "python3"
  },
  "language_info": {
   "codemirror_mode": {
    "name": "ipython",
    "version": 3
   },
   "file_extension": ".py",
   "mimetype": "text/x-python",
   "name": "python",
   "nbconvert_exporter": "python",
   "pygments_lexer": "ipython3",
   "version": "3.11.5"
  }
 },
 "nbformat": 4,
 "nbformat_minor": 4
}
